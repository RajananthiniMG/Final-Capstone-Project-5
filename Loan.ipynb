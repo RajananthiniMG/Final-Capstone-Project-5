{
 "cells": [
  {
   "cell_type": "code",
   "execution_count": 2,
   "metadata": {},
   "outputs": [],
   "source": [
    "import warnings\n",
    "warnings.filterwarnings(\"ignore\")\n",
    "import pandas as pd\n",
    "import numpy as np"
   ]
  },
  {
   "cell_type": "code",
   "execution_count": 20,
   "metadata": {},
   "outputs": [
    {
     "data": {
      "text/html": [
       "<div>\n",
       "<style scoped>\n",
       "    .dataframe tbody tr th:only-of-type {\n",
       "        vertical-align: middle;\n",
       "    }\n",
       "\n",
       "    .dataframe tbody tr th {\n",
       "        vertical-align: top;\n",
       "    }\n",
       "\n",
       "    .dataframe thead th {\n",
       "        text-align: right;\n",
       "    }\n",
       "</style>\n",
       "<table border=\"1\" class=\"dataframe\">\n",
       "  <thead>\n",
       "    <tr style=\"text-align: right;\">\n",
       "      <th></th>\n",
       "      <th>Age</th>\n",
       "      <th>Gender</th>\n",
       "      <th>Income</th>\n",
       "      <th>Employment_Status</th>\n",
       "      <th>Location</th>\n",
       "      <th>Credit_Score</th>\n",
       "      <th>Debt_to_Income_Ratio</th>\n",
       "      <th>Existing_Loan_Balance</th>\n",
       "      <th>Loan_Status</th>\n",
       "      <th>Loan_Amount</th>\n",
       "      <th>Interest_Rate</th>\n",
       "      <th>Loan_Duration_Months</th>\n",
       "    </tr>\n",
       "  </thead>\n",
       "  <tbody>\n",
       "    <tr>\n",
       "      <th>0</th>\n",
       "      <td>56</td>\n",
       "      <td>Male</td>\n",
       "      <td>71266.105175</td>\n",
       "      <td>Employed</td>\n",
       "      <td>Suburban</td>\n",
       "      <td>639</td>\n",
       "      <td>0.007142</td>\n",
       "      <td>27060.188289</td>\n",
       "      <td>Non-Default</td>\n",
       "      <td>13068.330587</td>\n",
       "      <td>18.185533</td>\n",
       "      <td>59</td>\n",
       "    </tr>\n",
       "    <tr>\n",
       "      <th>1</th>\n",
       "      <td>46</td>\n",
       "      <td>NaN</td>\n",
       "      <td>37283.054601</td>\n",
       "      <td>Employed</td>\n",
       "      <td>Suburban</td>\n",
       "      <td>474</td>\n",
       "      <td>0.456731</td>\n",
       "      <td>40192.994312</td>\n",
       "      <td>Default</td>\n",
       "      <td>15159.338369</td>\n",
       "      <td>11.727471</td>\n",
       "      <td>69</td>\n",
       "    </tr>\n",
       "    <tr>\n",
       "      <th>2</th>\n",
       "      <td>32</td>\n",
       "      <td>Male</td>\n",
       "      <td>69567.036392</td>\n",
       "      <td>Employed</td>\n",
       "      <td>Urban</td>\n",
       "      <td>750</td>\n",
       "      <td>0.329231</td>\n",
       "      <td>25444.262759</td>\n",
       "      <td>Default</td>\n",
       "      <td>6131.287659</td>\n",
       "      <td>17.030462</td>\n",
       "      <td>69</td>\n",
       "    </tr>\n",
       "    <tr>\n",
       "      <th>3</th>\n",
       "      <td>60</td>\n",
       "      <td>Female</td>\n",
       "      <td>72016.087392</td>\n",
       "      <td>Employed</td>\n",
       "      <td>Rural</td>\n",
       "      <td>435</td>\n",
       "      <td>0.052482</td>\n",
       "      <td>3122.213749</td>\n",
       "      <td>Non-Default</td>\n",
       "      <td>37531.880251</td>\n",
       "      <td>16.868949</td>\n",
       "      <td>26</td>\n",
       "    </tr>\n",
       "    <tr>\n",
       "      <th>4</th>\n",
       "      <td>25</td>\n",
       "      <td>Female</td>\n",
       "      <td>32161.988250</td>\n",
       "      <td>Unemployed</td>\n",
       "      <td>Suburban</td>\n",
       "      <td>315</td>\n",
       "      <td>0.450236</td>\n",
       "      <td>19197.350445</td>\n",
       "      <td>Non-Default</td>\n",
       "      <td>41466.397989</td>\n",
       "      <td>18.891582</td>\n",
       "      <td>66</td>\n",
       "    </tr>\n",
       "  </tbody>\n",
       "</table>\n",
       "</div>"
      ],
      "text/plain": [
       "   Age  Gender        Income Employment_Status  Location  Credit_Score  \\\n",
       "0   56    Male  71266.105175          Employed  Suburban           639   \n",
       "1   46     NaN  37283.054601          Employed  Suburban           474   \n",
       "2   32    Male  69567.036392          Employed     Urban           750   \n",
       "3   60  Female  72016.087392          Employed     Rural           435   \n",
       "4   25  Female  32161.988250        Unemployed  Suburban           315   \n",
       "\n",
       "   Debt_to_Income_Ratio  Existing_Loan_Balance  Loan_Status   Loan_Amount  \\\n",
       "0              0.007142           27060.188289  Non-Default  13068.330587   \n",
       "1              0.456731           40192.994312      Default  15159.338369   \n",
       "2              0.329231           25444.262759      Default   6131.287659   \n",
       "3              0.052482            3122.213749  Non-Default  37531.880251   \n",
       "4              0.450236           19197.350445  Non-Default  41466.397989   \n",
       "\n",
       "   Interest_Rate  Loan_Duration_Months  \n",
       "0      18.185533                    59  \n",
       "1      11.727471                    69  \n",
       "2      17.030462                    69  \n",
       "3      16.868949                    26  \n",
       "4      18.891582                    66  "
      ]
     },
     "execution_count": 20,
     "metadata": {},
     "output_type": "execute_result"
    }
   ],
   "source": [
    "# Load the data\n",
    "\n",
    "def load_data():\n",
    "    return pd.read_csv(r\"C:\\Users\\rajan\\OneDrive\\Desktop\\Final Project\\loan_default_prediction_project.csv\")\n",
    "\n",
    "data= load_data()\n",
    "data.head()"
   ]
  },
  {
   "cell_type": "code",
   "execution_count": 22,
   "metadata": {},
   "outputs": [
    {
     "name": "stdout",
     "output_type": "stream",
     "text": [
      "Age                        0\n",
      "Gender                   208\n",
      "Income                     0\n",
      "Employment_Status         94\n",
      "Location                   0\n",
      "Credit_Score               0\n",
      "Debt_to_Income_Ratio       0\n",
      "Existing_Loan_Balance      0\n",
      "Loan_Status                0\n",
      "Loan_Amount                0\n",
      "Interest_Rate              0\n",
      "Loan_Duration_Months       0\n",
      "dtype: int64\n"
     ]
    }
   ],
   "source": [
    "# missing values\n",
    "missing_values_count = data.isnull().sum()\n",
    "print(missing_values_count)"
   ]
  },
  {
   "cell_type": "code",
   "execution_count": 21,
   "metadata": {},
   "outputs": [
    {
     "name": "stdout",
     "output_type": "stream",
     "text": [
      "<class 'pandas.core.frame.DataFrame'>\n",
      "RangeIndex: 1000 entries, 0 to 999\n",
      "Data columns (total 12 columns):\n",
      " #   Column                 Non-Null Count  Dtype  \n",
      "---  ------                 --------------  -----  \n",
      " 0   Age                    1000 non-null   int64  \n",
      " 1   Gender                 792 non-null    object \n",
      " 2   Income                 1000 non-null   float64\n",
      " 3   Employment_Status      906 non-null    object \n",
      " 4   Location               1000 non-null   object \n",
      " 5   Credit_Score           1000 non-null   int64  \n",
      " 6   Debt_to_Income_Ratio   1000 non-null   float64\n",
      " 7   Existing_Loan_Balance  1000 non-null   float64\n",
      " 8   Loan_Status            1000 non-null   object \n",
      " 9   Loan_Amount            1000 non-null   float64\n",
      " 10  Interest_Rate          1000 non-null   float64\n",
      " 11  Loan_Duration_Months   1000 non-null   int64  \n",
      "dtypes: float64(5), int64(3), object(4)\n",
      "memory usage: 93.9+ KB\n"
     ]
    }
   ],
   "source": [
    "data.info()"
   ]
  },
  {
   "cell_type": "code",
   "execution_count": 23,
   "metadata": {},
   "outputs": [],
   "source": [
    "# Replace missing values in 'Gender' column with the mode\n",
    "data['Gender'].fillna(data['Gender'].mode()[0], inplace=True)\n",
    "\n",
    "# Replace missing values in 'Employment_Status' column with the mode\n",
    "data['Employment_Status'].fillna(data['Employment_Status'].mode()[0], inplace=True)"
   ]
  },
  {
   "cell_type": "code",
   "execution_count": 24,
   "metadata": {},
   "outputs": [
    {
     "name": "stdout",
     "output_type": "stream",
     "text": [
      "Age                      0\n",
      "Gender                   0\n",
      "Income                   0\n",
      "Employment_Status        0\n",
      "Location                 0\n",
      "Credit_Score             0\n",
      "Debt_to_Income_Ratio     0\n",
      "Existing_Loan_Balance    0\n",
      "Loan_Status              0\n",
      "Loan_Amount              0\n",
      "Interest_Rate            0\n",
      "Loan_Duration_Months     0\n",
      "dtype: int64\n"
     ]
    }
   ],
   "source": [
    "# missing values\n",
    "missing_values_count = data.isnull().sum()\n",
    "print(missing_values_count)"
   ]
  },
  {
   "cell_type": "code",
   "execution_count": 25,
   "metadata": {},
   "outputs": [
    {
     "data": {
      "text/html": [
       "<div>\n",
       "<style scoped>\n",
       "    .dataframe tbody tr th:only-of-type {\n",
       "        vertical-align: middle;\n",
       "    }\n",
       "\n",
       "    .dataframe tbody tr th {\n",
       "        vertical-align: top;\n",
       "    }\n",
       "\n",
       "    .dataframe thead th {\n",
       "        text-align: right;\n",
       "    }\n",
       "</style>\n",
       "<table border=\"1\" class=\"dataframe\">\n",
       "  <thead>\n",
       "    <tr style=\"text-align: right;\">\n",
       "      <th></th>\n",
       "      <th>Age</th>\n",
       "      <th>Gender</th>\n",
       "      <th>Income</th>\n",
       "      <th>Employment_Status</th>\n",
       "      <th>Location</th>\n",
       "      <th>Credit_Score</th>\n",
       "      <th>Debt_to_Income_Ratio</th>\n",
       "      <th>Existing_Loan_Balance</th>\n",
       "      <th>Loan_Status</th>\n",
       "      <th>Loan_Amount</th>\n",
       "      <th>Interest_Rate</th>\n",
       "      <th>Loan_Duration_Months</th>\n",
       "    </tr>\n",
       "  </thead>\n",
       "  <tbody>\n",
       "    <tr>\n",
       "      <th>0</th>\n",
       "      <td>56</td>\n",
       "      <td>Male</td>\n",
       "      <td>71266.105175</td>\n",
       "      <td>Employed</td>\n",
       "      <td>Suburban</td>\n",
       "      <td>639</td>\n",
       "      <td>0.007142</td>\n",
       "      <td>27060.188289</td>\n",
       "      <td>Non-Default</td>\n",
       "      <td>13068.330587</td>\n",
       "      <td>18.185533</td>\n",
       "      <td>59</td>\n",
       "    </tr>\n",
       "    <tr>\n",
       "      <th>1</th>\n",
       "      <td>46</td>\n",
       "      <td>Female</td>\n",
       "      <td>37283.054601</td>\n",
       "      <td>Employed</td>\n",
       "      <td>Suburban</td>\n",
       "      <td>474</td>\n",
       "      <td>0.456731</td>\n",
       "      <td>40192.994312</td>\n",
       "      <td>Default</td>\n",
       "      <td>15159.338369</td>\n",
       "      <td>11.727471</td>\n",
       "      <td>69</td>\n",
       "    </tr>\n",
       "    <tr>\n",
       "      <th>2</th>\n",
       "      <td>32</td>\n",
       "      <td>Male</td>\n",
       "      <td>69567.036392</td>\n",
       "      <td>Employed</td>\n",
       "      <td>Urban</td>\n",
       "      <td>750</td>\n",
       "      <td>0.329231</td>\n",
       "      <td>25444.262759</td>\n",
       "      <td>Default</td>\n",
       "      <td>6131.287659</td>\n",
       "      <td>17.030462</td>\n",
       "      <td>69</td>\n",
       "    </tr>\n",
       "    <tr>\n",
       "      <th>3</th>\n",
       "      <td>60</td>\n",
       "      <td>Female</td>\n",
       "      <td>72016.087392</td>\n",
       "      <td>Employed</td>\n",
       "      <td>Rural</td>\n",
       "      <td>435</td>\n",
       "      <td>0.052482</td>\n",
       "      <td>3122.213749</td>\n",
       "      <td>Non-Default</td>\n",
       "      <td>37531.880251</td>\n",
       "      <td>16.868949</td>\n",
       "      <td>26</td>\n",
       "    </tr>\n",
       "    <tr>\n",
       "      <th>4</th>\n",
       "      <td>25</td>\n",
       "      <td>Female</td>\n",
       "      <td>32161.988250</td>\n",
       "      <td>Unemployed</td>\n",
       "      <td>Suburban</td>\n",
       "      <td>315</td>\n",
       "      <td>0.450236</td>\n",
       "      <td>19197.350445</td>\n",
       "      <td>Non-Default</td>\n",
       "      <td>41466.397989</td>\n",
       "      <td>18.891582</td>\n",
       "      <td>66</td>\n",
       "    </tr>\n",
       "  </tbody>\n",
       "</table>\n",
       "</div>"
      ],
      "text/plain": [
       "   Age  Gender        Income Employment_Status  Location  Credit_Score  \\\n",
       "0   56    Male  71266.105175          Employed  Suburban           639   \n",
       "1   46  Female  37283.054601          Employed  Suburban           474   \n",
       "2   32    Male  69567.036392          Employed     Urban           750   \n",
       "3   60  Female  72016.087392          Employed     Rural           435   \n",
       "4   25  Female  32161.988250        Unemployed  Suburban           315   \n",
       "\n",
       "   Debt_to_Income_Ratio  Existing_Loan_Balance  Loan_Status   Loan_Amount  \\\n",
       "0              0.007142           27060.188289  Non-Default  13068.330587   \n",
       "1              0.456731           40192.994312      Default  15159.338369   \n",
       "2              0.329231           25444.262759      Default   6131.287659   \n",
       "3              0.052482            3122.213749  Non-Default  37531.880251   \n",
       "4              0.450236           19197.350445  Non-Default  41466.397989   \n",
       "\n",
       "   Interest_Rate  Loan_Duration_Months  \n",
       "0      18.185533                    59  \n",
       "1      11.727471                    69  \n",
       "2      17.030462                    69  \n",
       "3      16.868949                    26  \n",
       "4      18.891582                    66  "
      ]
     },
     "execution_count": 25,
     "metadata": {},
     "output_type": "execute_result"
    }
   ],
   "source": [
    "data.head()"
   ]
  },
  {
   "cell_type": "code",
   "execution_count": 26,
   "metadata": {},
   "outputs": [],
   "source": [
    "# Split features and target variable\n",
    "X = data.drop(columns=[\"Loan_Status\"])  # Features\n",
    "y = data[\"Loan_Status\"]  # Target variable\n"
   ]
  },
  {
   "cell_type": "code",
   "execution_count": 27,
   "metadata": {},
   "outputs": [
    {
     "name": "stdout",
     "output_type": "stream",
     "text": [
      "   Age  Gender        Income Employment_Status  Location  Credit_Score  \\\n",
      "0   56    Male  71266.105175          Employed  Suburban           639   \n",
      "1   46  Female  37283.054601          Employed  Suburban           474   \n",
      "2   32    Male  69567.036392          Employed     Urban           750   \n",
      "3   60  Female  72016.087392          Employed     Rural           435   \n",
      "4   25  Female  32161.988250        Unemployed  Suburban           315   \n",
      "\n",
      "   Debt_to_Income_Ratio  Existing_Loan_Balance   Loan_Amount  Interest_Rate  \\\n",
      "0              0.007142           27060.188289  13068.330587      18.185533   \n",
      "1              0.456731           40192.994312  15159.338369      11.727471   \n",
      "2              0.329231           25444.262759   6131.287659      17.030462   \n",
      "3              0.052482            3122.213749  37531.880251      16.868949   \n",
      "4              0.450236           19197.350445  41466.397989      18.891582   \n",
      "\n",
      "   Loan_Duration_Months  \n",
      "0                    59  \n",
      "1                    69  \n",
      "2                    69  \n",
      "3                    26  \n",
      "4                    66  \n"
     ]
    }
   ],
   "source": [
    "print(X.head())"
   ]
  },
  {
   "cell_type": "code",
   "execution_count": 28,
   "metadata": {},
   "outputs": [
    {
     "name": "stdout",
     "output_type": "stream",
     "text": [
      "0    Non-Default\n",
      "1        Default\n",
      "2        Default\n",
      "3    Non-Default\n",
      "4    Non-Default\n",
      "Name: Loan_Status, dtype: object\n"
     ]
    }
   ],
   "source": [
    "print(y.head())"
   ]
  },
  {
   "cell_type": "code",
   "execution_count": 12,
   "metadata": {},
   "outputs": [],
   "source": [
    "# Define preprocessing steps for numerical and categorical features here we assigning the values from dataset\n",
    "numeric_features = X.select_dtypes(include=[\"int64\", \"float64\"]).columns\n",
    "categorical_features = X.select_dtypes(include=[\"object\"]).columns\n"
   ]
  },
  {
   "cell_type": "code",
   "execution_count": 15,
   "metadata": {},
   "outputs": [
    {
     "data": {
      "image/png": "[encoded data removed]",
      "text/plain": [
       "<Figure size 800x600 with 1 Axes>"
      ]
     },
     "metadata": {},
     "output_type": "display_data"
    }
   ],
   "source": [
    "import matplotlib.pyplot as plt\n",
    "\n",
    "# Count the occurrences of each category in the 'Loan_Status' column\n",
    "loan_status_counts = y.value_counts()\n",
    "\n",
    "plt.figure(figsize=(8, 6))\n",
    "loan_status_counts.plot(kind='bar', color=['green', 'red'])\n",
    "plt.title('Distribution of Loan Status')\n",
    "plt.xlabel('Loan Status')\n",
    "plt.ylabel('Count')\n",
    "plt.xticks(ticks=[0, 1], labels=['Non-Default', 'Default'], rotation=0)\n",
    "plt.show()"
   ]
  },
  {
   "cell_type": "code",
   "execution_count": 16,
   "metadata": {},
   "outputs": [
    {
     "name": "stdout",
     "output_type": "stream",
     "text": [
      "Index(['Gender', 'Employment_Status', 'Location', 'Location'], dtype='object')\n"
     ]
    }
   ],
   "source": [
    "# Combine numerical and categorical features (add \"Location\" to categorical features)\n",
    "categorical_features = categorical_features.append(pd.Index([\"Location\"]))\n",
    "print(categorical_features)"
   ]
  },
  {
   "cell_type": "code",
   "execution_count": 18,
   "metadata": {},
   "outputs": [
    {
     "name": "stdout",
     "output_type": "stream",
     "text": [
      "        Age    Income  Credit_Score  Debt_to_Income_Ratio  \\\n",
      "0  1.112882  0.429620      0.415800             -1.614349   \n",
      "1  0.371652 -0.952831     -0.594522             -0.097096   \n",
      "2 -0.666069  0.360501      1.095471             -0.527378   \n",
      "3  1.409373  0.460130     -0.833326             -1.461339   \n",
      "4 -1.184929 -1.161159     -1.568106             -0.119013   \n",
      "\n",
      "   Existing_Loan_Balance  Loan_Amount  Interest_Rate  Loan_Duration_Months  \\\n",
      "0               0.128246    -1.127667       1.361894              0.980752   \n",
      "1               1.053379    -0.965809       0.038764              1.565263   \n",
      "2               0.014413    -1.664643       1.125242              1.565263   \n",
      "3              -1.558051     0.765981       1.092152             -0.948136   \n",
      "4              -0.425647     1.070540       1.506549              1.389910   \n",
      "\n",
      "   Gender_Female  Gender_Male  Employment_Status_Employed  \\\n",
      "0            0.0          1.0                         1.0   \n",
      "1            1.0          0.0                         1.0   \n",
      "2            0.0          1.0                         1.0   \n",
      "3            1.0          0.0                         1.0   \n",
      "4            1.0          0.0                         0.0   \n",
      "\n",
      "   Employment_Status_Unemployed  Location_Rural  Location_Suburban  \\\n",
      "0                           0.0             0.0                1.0   \n",
      "1                           0.0             0.0                1.0   \n",
      "2                           0.0             0.0                0.0   \n",
      "3                           0.0             1.0                0.0   \n",
      "4                           1.0             0.0                1.0   \n",
      "\n",
      "   Location_Urban  Location_Rural  Location_Suburban  Location_Urban  \n",
      "0             0.0             0.0                1.0             0.0  \n",
      "1             0.0             0.0                1.0             0.0  \n",
      "2             1.0             0.0                0.0             1.0  \n",
      "3             0.0             1.0                0.0             0.0  \n",
      "4             0.0             0.0                1.0             0.0  \n"
     ]
    }
   ],
   "source": [
    "from sklearn.model_selection import train_test_split\n",
    "from sklearn.linear_model import LogisticRegression\n",
    "from sklearn.metrics import accuracy_score, classification_report\n",
    "from sklearn.preprocessing import StandardScaler, OneHotEncoder\n",
    "from sklearn.compose import ColumnTransformer\n",
    "from sklearn.pipeline import Pipeline\n",
    "\n",
    "# Define preprocessing steps for numerical and categorical features\n",
    "numeric_transformer = Pipeline(steps=[\n",
    "    ('scaler', StandardScaler())\n",
    "])\n",
    "\n",
    "categorical_transformer = Pipeline(steps=[\n",
    "    ('onehot', OneHotEncoder(handle_unknown='ignore'))\n",
    "])\n",
    "\n",
    "# Combine preprocessing steps\n",
    "preprocessor = ColumnTransformer(\n",
    "    transformers=[\n",
    "        ('num', numeric_transformer, numeric_features),\n",
    "        ('cat', categorical_transformer, categorical_features)\n",
    "    ])\n",
    "\n",
    "# Define the model\n",
    "model = Pipeline(steps=[('preprocessor', preprocessor),\n",
    "                        ('classifier', LogisticRegression())])\n",
    "\n",
    "# Data preprocessing pipeline\n",
    "preprocessing_pipeline = Pipeline(steps=[('preprocessor', preprocessor)])\n",
    "\n",
    "# Preprocess the data and convert back to DataFrame\n",
    "X_encoded = preprocessing_pipeline.fit_transform(X)\n",
    "columns = numeric_features.tolist() + list(preprocessor.named_transformers_['cat'].named_steps['onehot'].get_feature_names_out(categorical_features))\n",
    "X_encoded_df = pd.DataFrame(X_encoded, columns=columns)\n",
    "\n",
    "\n",
    "print(X_encoded_df.head())"
   ]
  },
  {
   "cell_type": "code",
   "execution_count": 19,
   "metadata": {},
   "outputs": [
    {
     "name": "stdout",
     "output_type": "stream",
     "text": [
      "Accuracy: 0.785\n",
      "\n",
      "Classification Report:\n",
      "              precision    recall  f1-score   support\n",
      "\n",
      "     Default       0.00      0.00      0.00        43\n",
      " Non-Default       0.79      1.00      0.88       157\n",
      "\n",
      "    accuracy                           0.79       200\n",
      "   macro avg       0.39      0.50      0.44       200\n",
      "weighted avg       0.62      0.79      0.69       200\n",
      "\n"
     ]
    }
   ],
   "source": [
    "# Split the data into training and testing sets\n",
    "X_train, X_test, y_train, y_test = train_test_split(X, y, test_size=0.2, random_state=42)\n",
    "\n",
    "# Fit the model\n",
    "model.fit(X_train, y_train)\n",
    "\n",
    "# Predict on the test set\n",
    "y_pred = model.predict(X_test)\n",
    "\n",
    "# Evaluate the model\n",
    "accuracy = accuracy_score(y_test, y_pred)\n",
    "report = classification_report(y_test, y_pred)\n",
    "\n",
    "# Display model evaluation metrics\n",
    "print(\"Accuracy:\", accuracy)\n",
    "print(\"\\nClassification Report:\")\n",
    "print(report)"
   ]
  }
 ],
 "metadata": {
  "kernelspec": {
   "display_name": ".venv",
   "language": "python",
   "name": "python3"
  },
  "language_info": {
   "codemirror_mode": {
    "name": "ipython",
    "version": 3
   },
   "file_extension": ".py",
   "mimetype": "text/x-python",
   "name": "python",
   "nbconvert_exporter": "python",
   "pygments_lexer": "ipython3",
   "version": "3.11.3"
  }
 },
 "nbformat": 4,
 "nbformat_minor": 2
}
